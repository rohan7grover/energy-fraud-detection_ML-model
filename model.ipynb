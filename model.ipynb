{
 "cells": [
  {
   "cell_type": "code",
   "execution_count": 2,
   "metadata": {},
   "outputs": [],
   "source": [
    "from pycaret.datasets import get_data"
   ]
  },
  {
   "cell_type": "code",
   "execution_count": 3,
   "metadata": {},
   "outputs": [
    {
     "data": {
      "text/html": [
       "<div>\n",
       "<style scoped>\n",
       "    .dataframe tbody tr th:only-of-type {\n",
       "        vertical-align: middle;\n",
       "    }\n",
       "\n",
       "    .dataframe tbody tr th {\n",
       "        vertical-align: top;\n",
       "    }\n",
       "\n",
       "    .dataframe thead th {\n",
       "        text-align: right;\n",
       "    }\n",
       "</style>\n",
       "<table border=\"1\" class=\"dataframe\">\n",
       "  <thead>\n",
       "    <tr style=\"text-align: right;\">\n",
       "      <th></th>\n",
       "      <th>Consumer_Number</th>\n",
       "      <th>01/01  01:00:00</th>\n",
       "      <th>01/01  02:00:00</th>\n",
       "      <th>01/01  03:00:00</th>\n",
       "      <th>01/01  04:00:00</th>\n",
       "      <th>01/01  05:00:00</th>\n",
       "      <th>01/01  06:00:00</th>\n",
       "      <th>01/01  07:00:00</th>\n",
       "      <th>01/01  08:00:00</th>\n",
       "      <th>01/01  09:00:00</th>\n",
       "      <th>...</th>\n",
       "      <th>12/31  15:00:00</th>\n",
       "      <th>12/31  16:00:00</th>\n",
       "      <th>12/31  17:00:00</th>\n",
       "      <th>12/31  18:00:00</th>\n",
       "      <th>12/31  19:00:00</th>\n",
       "      <th>12/31  20:00:00</th>\n",
       "      <th>12/31  21:00:00</th>\n",
       "      <th>12/31  22:00:00</th>\n",
       "      <th>12/31  23:00:00</th>\n",
       "      <th>12/31  24:00:00</th>\n",
       "    </tr>\n",
       "  </thead>\n",
       "  <tbody>\n",
       "    <tr>\n",
       "      <th>0</th>\n",
       "      <td>1</td>\n",
       "      <td>1.019364</td>\n",
       "      <td>0.887116</td>\n",
       "      <td>0.833463</td>\n",
       "      <td>0.818020</td>\n",
       "      <td>0.812916</td>\n",
       "      <td>0.865135</td>\n",
       "      <td>1.087779</td>\n",
       "      <td>1.429298</td>\n",
       "      <td>1.382221</td>\n",
       "      <td>...</td>\n",
       "      <td>1.172657</td>\n",
       "      <td>1.257689</td>\n",
       "      <td>1.568955</td>\n",
       "      <td>2.123067</td>\n",
       "      <td>2.399626</td>\n",
       "      <td>2.191529</td>\n",
       "      <td>2.079864</td>\n",
       "      <td>1.912630</td>\n",
       "      <td>1.582459</td>\n",
       "      <td>1.266258</td>\n",
       "    </tr>\n",
       "    <tr>\n",
       "      <th>1</th>\n",
       "      <td>2</td>\n",
       "      <td>1.059830</td>\n",
       "      <td>0.933796</td>\n",
       "      <td>0.883621</td>\n",
       "      <td>0.867707</td>\n",
       "      <td>0.864937</td>\n",
       "      <td>0.924308</td>\n",
       "      <td>1.175694</td>\n",
       "      <td>1.501917</td>\n",
       "      <td>1.451336</td>\n",
       "      <td>...</td>\n",
       "      <td>1.217425</td>\n",
       "      <td>1.314985</td>\n",
       "      <td>1.629493</td>\n",
       "      <td>2.201964</td>\n",
       "      <td>2.428933</td>\n",
       "      <td>2.264366</td>\n",
       "      <td>2.165106</td>\n",
       "      <td>2.000394</td>\n",
       "      <td>1.667626</td>\n",
       "      <td>1.354412</td>\n",
       "    </tr>\n",
       "    <tr>\n",
       "      <th>2</th>\n",
       "      <td>3</td>\n",
       "      <td>0.971885</td>\n",
       "      <td>0.799060</td>\n",
       "      <td>0.741189</td>\n",
       "      <td>0.738245</td>\n",
       "      <td>0.786836</td>\n",
       "      <td>1.052912</td>\n",
       "      <td>1.677806</td>\n",
       "      <td>2.085997</td>\n",
       "      <td>2.020187</td>\n",
       "      <td>...</td>\n",
       "      <td>1.309095</td>\n",
       "      <td>1.409193</td>\n",
       "      <td>1.770302</td>\n",
       "      <td>2.387119</td>\n",
       "      <td>2.744496</td>\n",
       "      <td>2.606099</td>\n",
       "      <td>2.453464</td>\n",
       "      <td>2.217093</td>\n",
       "      <td>1.778541</td>\n",
       "      <td>1.344376</td>\n",
       "    </tr>\n",
       "    <tr>\n",
       "      <th>3</th>\n",
       "      <td>4</td>\n",
       "      <td>0.974334</td>\n",
       "      <td>0.796582</td>\n",
       "      <td>0.735028</td>\n",
       "      <td>0.727433</td>\n",
       "      <td>0.778706</td>\n",
       "      <td>1.041460</td>\n",
       "      <td>1.653672</td>\n",
       "      <td>2.093007</td>\n",
       "      <td>2.022476</td>\n",
       "      <td>...</td>\n",
       "      <td>1.285529</td>\n",
       "      <td>1.384085</td>\n",
       "      <td>1.747122</td>\n",
       "      <td>2.367964</td>\n",
       "      <td>2.735819</td>\n",
       "      <td>2.601121</td>\n",
       "      <td>2.445630</td>\n",
       "      <td>2.206391</td>\n",
       "      <td>1.769166</td>\n",
       "      <td>1.335991</td>\n",
       "    </tr>\n",
       "    <tr>\n",
       "      <th>4</th>\n",
       "      <td>5</td>\n",
       "      <td>0.958425</td>\n",
       "      <td>0.772773</td>\n",
       "      <td>0.715845</td>\n",
       "      <td>0.718761</td>\n",
       "      <td>0.777066</td>\n",
       "      <td>1.056108</td>\n",
       "      <td>1.691219</td>\n",
       "      <td>2.094531</td>\n",
       "      <td>2.004527</td>\n",
       "      <td>...</td>\n",
       "      <td>1.352693</td>\n",
       "      <td>1.451622</td>\n",
       "      <td>1.816727</td>\n",
       "      <td>2.453623</td>\n",
       "      <td>2.800002</td>\n",
       "      <td>2.664902</td>\n",
       "      <td>2.512288</td>\n",
       "      <td>2.279817</td>\n",
       "      <td>1.845666</td>\n",
       "      <td>1.415065</td>\n",
       "    </tr>\n",
       "  </tbody>\n",
       "</table>\n",
       "<p>5 rows × 8761 columns</p>\n",
       "</div>"
      ],
      "text/plain": [
       "   Consumer_Number   01/01  01:00:00   01/01  02:00:00   01/01  03:00:00  \\\n",
       "0                1          1.019364          0.887116          0.833463   \n",
       "1                2          1.059830          0.933796          0.883621   \n",
       "2                3          0.971885          0.799060          0.741189   \n",
       "3                4          0.974334          0.796582          0.735028   \n",
       "4                5          0.958425          0.772773          0.715845   \n",
       "\n",
       "    01/01  04:00:00   01/01  05:00:00   01/01  06:00:00   01/01  07:00:00  \\\n",
       "0          0.818020          0.812916          0.865135          1.087779   \n",
       "1          0.867707          0.864937          0.924308          1.175694   \n",
       "2          0.738245          0.786836          1.052912          1.677806   \n",
       "3          0.727433          0.778706          1.041460          1.653672   \n",
       "4          0.718761          0.777066          1.056108          1.691219   \n",
       "\n",
       "    01/01  08:00:00   01/01  09:00:00  ...   12/31  15:00:00  \\\n",
       "0          1.429298          1.382221  ...          1.172657   \n",
       "1          1.501917          1.451336  ...          1.217425   \n",
       "2          2.085997          2.020187  ...          1.309095   \n",
       "3          2.093007          2.022476  ...          1.285529   \n",
       "4          2.094531          2.004527  ...          1.352693   \n",
       "\n",
       "    12/31  16:00:00   12/31  17:00:00   12/31  18:00:00   12/31  19:00:00  \\\n",
       "0          1.257689          1.568955          2.123067          2.399626   \n",
       "1          1.314985          1.629493          2.201964          2.428933   \n",
       "2          1.409193          1.770302          2.387119          2.744496   \n",
       "3          1.384085          1.747122          2.367964          2.735819   \n",
       "4          1.451622          1.816727          2.453623          2.800002   \n",
       "\n",
       "    12/31  20:00:00   12/31  21:00:00   12/31  22:00:00   12/31  23:00:00  \\\n",
       "0          2.191529          2.079864          1.912630          1.582459   \n",
       "1          2.264366          2.165106          2.000394          1.667626   \n",
       "2          2.606099          2.453464          2.217093          1.778541   \n",
       "3          2.601121          2.445630          2.206391          1.769166   \n",
       "4          2.664902          2.512288          2.279817          1.845666   \n",
       "\n",
       "    12/31  24:00:00  \n",
       "0          1.266258  \n",
       "1          1.354412  \n",
       "2          1.344376  \n",
       "3          1.335991  \n",
       "4          1.415065  \n",
       "\n",
       "[5 rows x 8761 columns]"
      ]
     },
     "metadata": {},
     "output_type": "display_data"
    }
   ],
   "source": [
    "dataset = get_data('final_data')"
   ]
  },
  {
   "cell_type": "code",
   "execution_count": 4,
   "metadata": {},
   "outputs": [
    {
     "data": {
      "text/plain": [
       "(15, 8761)"
      ]
     },
     "execution_count": 4,
     "metadata": {},
     "output_type": "execute_result"
    }
   ],
   "source": [
    "# check the shape of data\n",
    "dataset.shape"
   ]
  },
  {
   "cell_type": "code",
   "execution_count": 5,
   "metadata": {},
   "outputs": [
    {
     "name": "stdout",
     "output_type": "stream",
     "text": [
      "Data for Modeling: (14, 8761)\n",
      "Unseen Data For Predictions: (1, 8761)\n"
     ]
    }
   ],
   "source": [
    "data = dataset.sample(frac=0.95, random_state=786)\n",
    "data_unseen = dataset.drop(data.index)\n",
    "\n",
    "data.reset_index(drop=True, inplace=True)\n",
    "data_unseen.reset_index(drop=True, inplace=True)\n",
    "\n",
    "print('Data for Modeling: ' + str(data.shape))\n",
    "print('Unseen Data For Predictions: ' + str(data_unseen.shape))"
   ]
  },
  {
   "cell_type": "code",
   "execution_count": 9,
   "metadata": {},
   "outputs": [
    {
     "ename": "OSError",
     "evalue": "dlopen(/Users/apple/Documents/energy-fraud-detection_ML-model/.conda/lib/python3.9/site-packages/lightgbm/lib/lib_lightgbm.so, 0x0006): Library not loaded: /usr/local/opt/libomp/lib/libomp.dylib\n  Referenced from: <F47D69E4-1594-3171-ABCC-7156C3E263E1> /Users/apple/Documents/energy-fraud-detection_ML-model/.conda/lib/python3.9/site-packages/lightgbm/lib/lib_lightgbm.so\n  Reason: tried: '/usr/local/opt/libomp/lib/libomp.dylib' (no such file), '/System/Volumes/Preboot/Cryptexes/OS/usr/local/opt/libomp/lib/libomp.dylib' (no such file), '/usr/local/opt/libomp/lib/libomp.dylib' (no such file), '/usr/local/lib/libomp.dylib' (no such file), '/usr/lib/libomp.dylib' (no such file, not in dyld cache)",
     "output_type": "error",
     "traceback": [
      "\u001b[0;31m---------------------------------------------------------------------------\u001b[0m",
      "\u001b[0;31mOSError\u001b[0m                                   Traceback (most recent call last)",
      "Cell \u001b[0;32mIn[9], line 3\u001b[0m\n\u001b[1;32m      1\u001b[0m \u001b[39mfrom\u001b[39;00m \u001b[39mpycaret\u001b[39;00m\u001b[39m.\u001b[39;00m\u001b[39manomaly\u001b[39;00m \u001b[39mimport\u001b[39;00m \u001b[39m*\u001b[39m\n\u001b[0;32m----> 3\u001b[0m exp_ano101 \u001b[39m=\u001b[39m setup(data, normalize \u001b[39m=\u001b[39;49m \u001b[39mTrue\u001b[39;49;00m, \n\u001b[1;32m      4\u001b[0m                    ignore_features \u001b[39m=\u001b[39;49m [\u001b[39m'\u001b[39;49m\u001b[39mCustomer_Number\u001b[39;49m\u001b[39m'\u001b[39;49m],\n\u001b[1;32m      5\u001b[0m                    session_id \u001b[39m=\u001b[39;49m \u001b[39m123\u001b[39;49m)\n",
      "File \u001b[0;32m~/Documents/energy-fraud-detection_ML-model/.conda/lib/python3.9/site-packages/pycaret/anomaly/functional.py:449\u001b[0m, in \u001b[0;36msetup\u001b[0;34m(data, data_func, index, ordinal_features, numeric_features, categorical_features, date_features, text_features, ignore_features, keep_features, preprocess, create_date_columns, imputation_type, numeric_imputation, categorical_imputation, text_features_method, max_encoding_ohe, encoding_method, rare_to_value, rare_value, polynomial_features, polynomial_degree, low_variance_threshold, group_features, group_names, drop_groups, remove_multicollinearity, multicollinearity_threshold, bin_numeric_features, remove_outliers, outliers_method, outliers_threshold, transformation, transformation_method, normalize, normalize_method, pca, pca_method, pca_components, custom_pipeline, custom_pipeline_position, n_jobs, use_gpu, html, session_id, system_log, log_experiment, experiment_name, experiment_custom_tags, log_plots, log_profile, log_data, verbose, memory, profile, profile_kwargs)\u001b[0m\n\u001b[1;32m    447\u001b[0m exp \u001b[39m=\u001b[39m _EXPERIMENT_CLASS()\n\u001b[1;32m    448\u001b[0m set_current_experiment(exp)\n\u001b[0;32m--> 449\u001b[0m \u001b[39mreturn\u001b[39;00m exp\u001b[39m.\u001b[39;49msetup(\n\u001b[1;32m    450\u001b[0m     data\u001b[39m=\u001b[39;49mdata,\n\u001b[1;32m    451\u001b[0m     data_func\u001b[39m=\u001b[39;49mdata_func,\n\u001b[1;32m    452\u001b[0m     index\u001b[39m=\u001b[39;49mindex,\n\u001b[1;32m    453\u001b[0m     ordinal_features\u001b[39m=\u001b[39;49mordinal_features,\n\u001b[1;32m    454\u001b[0m     numeric_features\u001b[39m=\u001b[39;49mnumeric_features,\n\u001b[1;32m    455\u001b[0m     categorical_features\u001b[39m=\u001b[39;49mcategorical_features,\n\u001b[1;32m    456\u001b[0m     date_features\u001b[39m=\u001b[39;49mdate_features,\n\u001b[1;32m    457\u001b[0m     text_features\u001b[39m=\u001b[39;49mtext_features,\n\u001b[1;32m    458\u001b[0m     ignore_features\u001b[39m=\u001b[39;49mignore_features,\n\u001b[1;32m    459\u001b[0m     keep_features\u001b[39m=\u001b[39;49mkeep_features,\n\u001b[1;32m    460\u001b[0m     preprocess\u001b[39m=\u001b[39;49mpreprocess,\n\u001b[1;32m    461\u001b[0m     create_date_columns\u001b[39m=\u001b[39;49mcreate_date_columns,\n\u001b[1;32m    462\u001b[0m     imputation_type\u001b[39m=\u001b[39;49mimputation_type,\n\u001b[1;32m    463\u001b[0m     numeric_imputation\u001b[39m=\u001b[39;49mnumeric_imputation,\n\u001b[1;32m    464\u001b[0m     categorical_imputation\u001b[39m=\u001b[39;49mcategorical_imputation,\n\u001b[1;32m    465\u001b[0m     text_features_method\u001b[39m=\u001b[39;49mtext_features_method,\n\u001b[1;32m    466\u001b[0m     max_encoding_ohe\u001b[39m=\u001b[39;49mmax_encoding_ohe,\n\u001b[1;32m    467\u001b[0m     encoding_method\u001b[39m=\u001b[39;49mencoding_method,\n\u001b[1;32m    468\u001b[0m     rare_to_value\u001b[39m=\u001b[39;49mrare_to_value,\n\u001b[1;32m    469\u001b[0m     rare_value\u001b[39m=\u001b[39;49mrare_value,\n\u001b[1;32m    470\u001b[0m     polynomial_features\u001b[39m=\u001b[39;49mpolynomial_features,\n\u001b[1;32m    471\u001b[0m     polynomial_degree\u001b[39m=\u001b[39;49mpolynomial_degree,\n\u001b[1;32m    472\u001b[0m     low_variance_threshold\u001b[39m=\u001b[39;49mlow_variance_threshold,\n\u001b[1;32m    473\u001b[0m     group_features\u001b[39m=\u001b[39;49mgroup_features,\n\u001b[1;32m    474\u001b[0m     group_names\u001b[39m=\u001b[39;49mgroup_names,\n\u001b[1;32m    475\u001b[0m     drop_groups\u001b[39m=\u001b[39;49mdrop_groups,\n\u001b[1;32m    476\u001b[0m     remove_multicollinearity\u001b[39m=\u001b[39;49mremove_multicollinearity,\n\u001b[1;32m    477\u001b[0m     multicollinearity_threshold\u001b[39m=\u001b[39;49mmulticollinearity_threshold,\n\u001b[1;32m    478\u001b[0m     bin_numeric_features\u001b[39m=\u001b[39;49mbin_numeric_features,\n\u001b[1;32m    479\u001b[0m     remove_outliers\u001b[39m=\u001b[39;49mremove_outliers,\n\u001b[1;32m    480\u001b[0m     outliers_method\u001b[39m=\u001b[39;49moutliers_method,\n\u001b[1;32m    481\u001b[0m     outliers_threshold\u001b[39m=\u001b[39;49moutliers_threshold,\n\u001b[1;32m    482\u001b[0m     transformation\u001b[39m=\u001b[39;49mtransformation,\n\u001b[1;32m    483\u001b[0m     transformation_method\u001b[39m=\u001b[39;49mtransformation_method,\n\u001b[1;32m    484\u001b[0m     normalize\u001b[39m=\u001b[39;49mnormalize,\n\u001b[1;32m    485\u001b[0m     normalize_method\u001b[39m=\u001b[39;49mnormalize_method,\n\u001b[1;32m    486\u001b[0m     pca\u001b[39m=\u001b[39;49mpca,\n\u001b[1;32m    487\u001b[0m     pca_method\u001b[39m=\u001b[39;49mpca_method,\n\u001b[1;32m    488\u001b[0m     pca_components\u001b[39m=\u001b[39;49mpca_components,\n\u001b[1;32m    489\u001b[0m     custom_pipeline\u001b[39m=\u001b[39;49mcustom_pipeline,\n\u001b[1;32m    490\u001b[0m     custom_pipeline_position\u001b[39m=\u001b[39;49mcustom_pipeline_position,\n\u001b[1;32m    491\u001b[0m     n_jobs\u001b[39m=\u001b[39;49mn_jobs,\n\u001b[1;32m    492\u001b[0m     use_gpu\u001b[39m=\u001b[39;49muse_gpu,\n\u001b[1;32m    493\u001b[0m     html\u001b[39m=\u001b[39;49mhtml,\n\u001b[1;32m    494\u001b[0m     session_id\u001b[39m=\u001b[39;49msession_id,\n\u001b[1;32m    495\u001b[0m     system_log\u001b[39m=\u001b[39;49msystem_log,\n\u001b[1;32m    496\u001b[0m     log_experiment\u001b[39m=\u001b[39;49mlog_experiment,\n\u001b[1;32m    497\u001b[0m     experiment_name\u001b[39m=\u001b[39;49mexperiment_name,\n\u001b[1;32m    498\u001b[0m     experiment_custom_tags\u001b[39m=\u001b[39;49mexperiment_custom_tags,\n\u001b[1;32m    499\u001b[0m     log_plots\u001b[39m=\u001b[39;49mlog_plots,\n\u001b[1;32m    500\u001b[0m     log_profile\u001b[39m=\u001b[39;49mlog_profile,\n\u001b[1;32m    501\u001b[0m     log_data\u001b[39m=\u001b[39;49mlog_data,\n\u001b[1;32m    502\u001b[0m     verbose\u001b[39m=\u001b[39;49mverbose,\n\u001b[1;32m    503\u001b[0m     memory\u001b[39m=\u001b[39;49mmemory,\n\u001b[1;32m    504\u001b[0m     profile\u001b[39m=\u001b[39;49mprofile,\n\u001b[1;32m    505\u001b[0m     profile_kwargs\u001b[39m=\u001b[39;49mprofile_kwargs,\n\u001b[1;32m    506\u001b[0m )\n",
      "File \u001b[0;32m~/Documents/energy-fraud-detection_ML-model/.conda/lib/python3.9/site-packages/pycaret/internal/pycaret_experiment/unsupervised_experiment.py:527\u001b[0m, in \u001b[0;36m_UnsupervisedExperiment.setup\u001b[0;34m(self, data, data_func, index, ordinal_features, numeric_features, categorical_features, date_features, text_features, ignore_features, keep_features, preprocess, create_date_columns, imputation_type, numeric_imputation, categorical_imputation, text_features_method, max_encoding_ohe, encoding_method, rare_to_value, rare_value, polynomial_features, polynomial_degree, low_variance_threshold, group_features, group_names, drop_groups, remove_multicollinearity, multicollinearity_threshold, bin_numeric_features, remove_outliers, outliers_method, outliers_threshold, transformation, transformation_method, normalize, normalize_method, pca, pca_method, pca_components, custom_pipeline, custom_pipeline_position, n_jobs, use_gpu, html, session_id, system_log, log_experiment, experiment_name, experiment_custom_tags, log_plots, log_profile, log_data, verbose, memory, profile, profile_kwargs, engines)\u001b[0m\n\u001b[1;32m    523\u001b[0m runtime_start \u001b[39m=\u001b[39m time\u001b[39m.\u001b[39mtime()\n\u001b[1;32m    525\u001b[0m \u001b[39mself\u001b[39m\u001b[39m.\u001b[39mall_allowed_engines \u001b[39m=\u001b[39m ALL_ALLOWED_ENGINES\n\u001b[0;32m--> 527\u001b[0m \u001b[39mself\u001b[39;49m\u001b[39m.\u001b[39;49m_initialize_setup(\n\u001b[1;32m    528\u001b[0m     n_jobs\u001b[39m=\u001b[39;49mn_jobs,\n\u001b[1;32m    529\u001b[0m     use_gpu\u001b[39m=\u001b[39;49muse_gpu,\n\u001b[1;32m    530\u001b[0m     html\u001b[39m=\u001b[39;49mhtml,\n\u001b[1;32m    531\u001b[0m     session_id\u001b[39m=\u001b[39;49msession_id,\n\u001b[1;32m    532\u001b[0m     system_log\u001b[39m=\u001b[39;49msystem_log,\n\u001b[1;32m    533\u001b[0m     log_experiment\u001b[39m=\u001b[39;49mlog_experiment,\n\u001b[1;32m    534\u001b[0m     experiment_name\u001b[39m=\u001b[39;49mexperiment_name,\n\u001b[1;32m    535\u001b[0m     memory\u001b[39m=\u001b[39;49mmemory,\n\u001b[1;32m    536\u001b[0m     verbose\u001b[39m=\u001b[39;49mverbose,\n\u001b[1;32m    537\u001b[0m )\n\u001b[1;32m    539\u001b[0m \u001b[39m# Prepare experiment specific params ======================= >>\u001b[39;00m\n\u001b[1;32m    541\u001b[0m \u001b[39mself\u001b[39m\u001b[39m.\u001b[39mlog_plots_param \u001b[39m=\u001b[39m log_plots\n",
      "File \u001b[0;32m~/Documents/energy-fraud-detection_ML-model/.conda/lib/python3.9/site-packages/pycaret/internal/pycaret_experiment/tabular_experiment.py:330\u001b[0m, in \u001b[0;36m_TabularExperiment._initialize_setup\u001b[0;34m(self, n_jobs, use_gpu, html, session_id, system_log, log_experiment, experiment_name, memory, verbose)\u001b[0m\n\u001b[1;32m    326\u001b[0m \u001b[39mself\u001b[39m\u001b[39m.\u001b[39mlogger\u001b[39m.\u001b[39minfo(\u001b[39mf\u001b[39m\u001b[39m\"\u001b[39m\u001b[39mself.USI: \u001b[39m\u001b[39m{\u001b[39;00m\u001b[39mself\u001b[39m\u001b[39m.\u001b[39mUSI\u001b[39m}\u001b[39;00m\u001b[39m\"\u001b[39m)\n\u001b[1;32m    328\u001b[0m \u001b[39mself\u001b[39m\u001b[39m.\u001b[39mlogger\u001b[39m.\u001b[39minfo(\u001b[39mf\u001b[39m\u001b[39m\"\u001b[39m\u001b[39mself._variable_keys: \u001b[39m\u001b[39m{\u001b[39;00m\u001b[39mself\u001b[39m\u001b[39m.\u001b[39m_variable_keys\u001b[39m}\u001b[39;00m\u001b[39m\"\u001b[39m)\n\u001b[0;32m--> 330\u001b[0m \u001b[39mself\u001b[39;49m\u001b[39m.\u001b[39;49m_check_environment()\n\u001b[1;32m    332\u001b[0m \u001b[39m# Set up GPU usage ========================================= >>\u001b[39;00m\n\u001b[1;32m    334\u001b[0m \u001b[39mif\u001b[39;00m \u001b[39mself\u001b[39m\u001b[39m.\u001b[39mgpu_param \u001b[39m!=\u001b[39m \u001b[39m\"\u001b[39m\u001b[39mforce\u001b[39m\u001b[39m\"\u001b[39m \u001b[39mand\u001b[39;00m \u001b[39mtype\u001b[39m(\u001b[39mself\u001b[39m\u001b[39m.\u001b[39mgpu_param) \u001b[39mis\u001b[39;00m \u001b[39mnot\u001b[39;00m \u001b[39mbool\u001b[39m:\n",
      "File \u001b[0;32m~/Documents/energy-fraud-detection_ML-model/.conda/lib/python3.9/site-packages/pycaret/internal/pycaret_experiment/pycaret_experiment.py:121\u001b[0m, in \u001b[0;36m_PyCaretExperiment._check_environment\u001b[0;34m(self)\u001b[0m\n\u001b[1;32m    118\u001b[0m \u001b[39mfrom\u001b[39;00m \u001b[39mpycaret\u001b[39;00m\u001b[39m.\u001b[39;00m\u001b[39mutils\u001b[39;00m\u001b[39m.\u001b[39;00m\u001b[39m_show_versions\u001b[39;00m \u001b[39mimport\u001b[39;00m show_versions\n\u001b[1;32m    120\u001b[0m \u001b[39mself\u001b[39m\u001b[39m.\u001b[39mlogger\u001b[39m.\u001b[39minfo(\u001b[39m\"\u001b[39m\u001b[39mChecking libraries\u001b[39m\u001b[39m\"\u001b[39m)\n\u001b[0;32m--> 121\u001b[0m \u001b[39mself\u001b[39m\u001b[39m.\u001b[39mlogger\u001b[39m.\u001b[39minfo(show_versions(logger\u001b[39m=\u001b[39;49m\u001b[39mself\u001b[39;49m\u001b[39m.\u001b[39;49mlogger))\n",
      "File \u001b[0;32m~/Documents/energy-fraud-detection_ML-model/.conda/lib/python3.9/site-packages/pycaret/utils/_show_versions.py:165\u001b[0m, in \u001b[0;36mshow_versions\u001b[0;34m(optional, logger)\u001b[0m\n\u001b[1;32m    162\u001b[0m     print_func(\u001b[39m\"\u001b[39m\u001b[39m{k:>10}\u001b[39;00m\u001b[39m: \u001b[39m\u001b[39m{stat}\u001b[39;00m\u001b[39m\"\u001b[39m\u001b[39m.\u001b[39mformat(k\u001b[39m=\u001b[39mk, stat\u001b[39m=\u001b[39mstat))  \u001b[39m# noqa: T001\u001b[39;00m\n\u001b[1;32m    164\u001b[0m print_func(\u001b[39mf\u001b[39m\u001b[39m\"\u001b[39m\u001b[39m{\u001b[39;00mprefix\u001b[39m}\u001b[39;00m\u001b[39mPyCaret required dependencies:\u001b[39m\u001b[39m\"\u001b[39m)  \u001b[39m# noqa: T001\u001b[39;00m\n\u001b[0;32m--> 165\u001b[0m optional_deps_info \u001b[39m=\u001b[39m _get_deps_info(logger\u001b[39m=\u001b[39;49mlogger)\n\u001b[1;32m    166\u001b[0m \u001b[39mfor\u001b[39;00m k, stat \u001b[39min\u001b[39;00m optional_deps_info\u001b[39m.\u001b[39mitems():\n\u001b[1;32m    167\u001b[0m     print_func(\u001b[39m\"\u001b[39m\u001b[39m{k:>20}\u001b[39;00m\u001b[39m: \u001b[39m\u001b[39m{stat}\u001b[39;00m\u001b[39m\"\u001b[39m\u001b[39m.\u001b[39mformat(k\u001b[39m=\u001b[39mk, stat\u001b[39m=\u001b[39mstat))  \u001b[39m# noqa: T001\u001b[39;00m\n",
      "File \u001b[0;32m~/Documents/energy-fraud-detection_ML-model/.conda/lib/python3.9/site-packages/pycaret/utils/_show_versions.py:130\u001b[0m, in \u001b[0;36m_get_deps_info\u001b[0;34m(optional, logger)\u001b[0m\n\u001b[1;32m    128\u001b[0m \u001b[39mfor\u001b[39;00m modname \u001b[39min\u001b[39;00m deps:\n\u001b[1;32m    129\u001b[0m     \u001b[39mtry\u001b[39;00m:\n\u001b[0;32m--> 130\u001b[0m         ver \u001b[39m=\u001b[39m get_module_version(modname)\n\u001b[1;32m    131\u001b[0m         \u001b[39mif\u001b[39;00m \u001b[39mnot\u001b[39;00m ver:\n\u001b[1;32m    132\u001b[0m             ver \u001b[39m=\u001b[39m \u001b[39m\"\u001b[39m\u001b[39mInstalled but version unavailable\u001b[39m\u001b[39m\"\u001b[39m\n",
      "File \u001b[0;32m~/Documents/energy-fraud-detection_ML-model/.conda/lib/python3.9/site-packages/pycaret/utils/_dependencies.py:81\u001b[0m, in \u001b[0;36mget_module_version\u001b[0;34m(modname)\u001b[0m\n\u001b[1;32m     79\u001b[0m \u001b[39mdef\u001b[39;00m \u001b[39mget_module_version\u001b[39m(modname: \u001b[39mstr\u001b[39m) \u001b[39m-\u001b[39m\u001b[39m>\u001b[39m Optional[LooseVersion]:\n\u001b[1;32m     80\u001b[0m \u001b[39m    \u001b[39m\u001b[39m\"\"\"Raises a ValueError if module is not installed\"\"\"\u001b[39;00m\n\u001b[0;32m---> 81\u001b[0m     version \u001b[39m=\u001b[39m _get_module_version(modname)\n\u001b[1;32m     82\u001b[0m     \u001b[39mif\u001b[39;00m version \u001b[39mis\u001b[39;00m \u001b[39mFalse\u001b[39;00m:\n\u001b[1;32m     83\u001b[0m         \u001b[39mraise\u001b[39;00m \u001b[39mValueError\u001b[39;00m(\u001b[39mf\u001b[39m\u001b[39m\"\u001b[39m\u001b[39mModule \u001b[39m\u001b[39m'\u001b[39m\u001b[39m{\u001b[39;00mmodname\u001b[39m}\u001b[39;00m\u001b[39m'\u001b[39m\u001b[39m is not installed.\u001b[39m\u001b[39m\"\u001b[39m)\n",
      "File \u001b[0;32m~/Documents/energy-fraud-detection_ML-model/.conda/lib/python3.9/site-packages/pycaret/utils/_dependencies.py:75\u001b[0m, in \u001b[0;36m_get_module_version\u001b[0;34m(modname)\u001b[0m\n\u001b[1;32m     72\u001b[0m installed_modules \u001b[39m=\u001b[39m get_installed_modules()\n\u001b[1;32m     73\u001b[0m \u001b[39mif\u001b[39;00m modname \u001b[39mnot\u001b[39;00m \u001b[39min\u001b[39;00m installed_modules:\n\u001b[1;32m     74\u001b[0m     \u001b[39m# Fallback. This should never happen unless module is not present\u001b[39;00m\n\u001b[0;32m---> 75\u001b[0m     installed_modules[modname] \u001b[39m=\u001b[39m _try_import_and_get_module_version(modname)\n\u001b[1;32m     76\u001b[0m \u001b[39mreturn\u001b[39;00m installed_modules[modname]\n",
      "File \u001b[0;32m~/Documents/energy-fraud-detection_ML-model/.conda/lib/python3.9/site-packages/pycaret/utils/_dependencies.py:28\u001b[0m, in \u001b[0;36m_try_import_and_get_module_version\u001b[0;34m(modname)\u001b[0m\n\u001b[1;32m     26\u001b[0m \u001b[39mif\u001b[39;00m logger:\n\u001b[1;32m     27\u001b[0m     \u001b[39mwith\u001b[39;00m redirect_output(logger):\n\u001b[0;32m---> 28\u001b[0m         mod \u001b[39m=\u001b[39m import_module(modname)\n\u001b[1;32m     29\u001b[0m \u001b[39melse\u001b[39;00m:\n\u001b[1;32m     30\u001b[0m     mod \u001b[39m=\u001b[39m import_module(modname)\n",
      "File \u001b[0;32m~/Documents/energy-fraud-detection_ML-model/.conda/lib/python3.9/importlib/__init__.py:127\u001b[0m, in \u001b[0;36mimport_module\u001b[0;34m(name, package)\u001b[0m\n\u001b[1;32m    125\u001b[0m             \u001b[39mbreak\u001b[39;00m\n\u001b[1;32m    126\u001b[0m         level \u001b[39m+\u001b[39m\u001b[39m=\u001b[39m \u001b[39m1\u001b[39m\n\u001b[0;32m--> 127\u001b[0m \u001b[39mreturn\u001b[39;00m _bootstrap\u001b[39m.\u001b[39;49m_gcd_import(name[level:], package, level)\n",
      "File \u001b[0;32m<frozen importlib._bootstrap>:1030\u001b[0m, in \u001b[0;36m_gcd_import\u001b[0;34m(name, package, level)\u001b[0m\n",
      "File \u001b[0;32m<frozen importlib._bootstrap>:1007\u001b[0m, in \u001b[0;36m_find_and_load\u001b[0;34m(name, import_)\u001b[0m\n",
      "File \u001b[0;32m<frozen importlib._bootstrap>:986\u001b[0m, in \u001b[0;36m_find_and_load_unlocked\u001b[0;34m(name, import_)\u001b[0m\n",
      "File \u001b[0;32m<frozen importlib._bootstrap>:680\u001b[0m, in \u001b[0;36m_load_unlocked\u001b[0;34m(spec)\u001b[0m\n",
      "File \u001b[0;32m<frozen importlib._bootstrap_external>:850\u001b[0m, in \u001b[0;36mexec_module\u001b[0;34m(self, module)\u001b[0m\n",
      "File \u001b[0;32m<frozen importlib._bootstrap>:228\u001b[0m, in \u001b[0;36m_call_with_frames_removed\u001b[0;34m(f, *args, **kwds)\u001b[0m\n",
      "File \u001b[0;32m~/Documents/energy-fraud-detection_ML-model/.conda/lib/python3.9/site-packages/lightgbm/__init__.py:8\u001b[0m\n\u001b[1;32m      2\u001b[0m \u001b[39m\"\"\"LightGBM, Light Gradient Boosting Machine.\u001b[39;00m\n\u001b[1;32m      3\u001b[0m \n\u001b[1;32m      4\u001b[0m \u001b[39mContributors: https://github.com/microsoft/LightGBM/graphs/contributors.\u001b[39;00m\n\u001b[1;32m      5\u001b[0m \u001b[39m\"\"\"\u001b[39;00m\n\u001b[1;32m      6\u001b[0m \u001b[39mfrom\u001b[39;00m \u001b[39mpathlib\u001b[39;00m \u001b[39mimport\u001b[39;00m Path\n\u001b[0;32m----> 8\u001b[0m \u001b[39mfrom\u001b[39;00m \u001b[39m.\u001b[39;00m\u001b[39mbasic\u001b[39;00m \u001b[39mimport\u001b[39;00m Booster, Dataset, Sequence, register_logger\n\u001b[1;32m      9\u001b[0m \u001b[39mfrom\u001b[39;00m \u001b[39m.\u001b[39;00m\u001b[39mcallback\u001b[39;00m \u001b[39mimport\u001b[39;00m early_stopping, log_evaluation, record_evaluation, reset_parameter\n\u001b[1;32m     10\u001b[0m \u001b[39mfrom\u001b[39;00m \u001b[39m.\u001b[39;00m\u001b[39mengine\u001b[39;00m \u001b[39mimport\u001b[39;00m CVBooster, cv, train\n",
      "File \u001b[0;32m~/Documents/energy-fraud-detection_ML-model/.conda/lib/python3.9/site-packages/lightgbm/basic.py:221\u001b[0m\n\u001b[1;32m    219\u001b[0m     _LIB \u001b[39m=\u001b[39m Mock(ctypes\u001b[39m.\u001b[39mCDLL)  \u001b[39m# type: ignore\u001b[39;00m\n\u001b[1;32m    220\u001b[0m \u001b[39melse\u001b[39;00m:\n\u001b[0;32m--> 221\u001b[0m     _LIB \u001b[39m=\u001b[39m _load_lib()\n\u001b[1;32m    224\u001b[0m _NUMERIC_TYPES \u001b[39m=\u001b[39m (\u001b[39mint\u001b[39m, \u001b[39mfloat\u001b[39m, \u001b[39mbool\u001b[39m)\n\u001b[1;32m    225\u001b[0m _ArrayLike \u001b[39m=\u001b[39m Union[List, np\u001b[39m.\u001b[39mndarray, pd_Series]\n",
      "File \u001b[0;32m~/Documents/energy-fraud-detection_ML-model/.conda/lib/python3.9/site-packages/lightgbm/basic.py:206\u001b[0m, in \u001b[0;36m_load_lib\u001b[0;34m()\u001b[0m\n\u001b[1;32m    204\u001b[0m \u001b[39m\u001b[39m\u001b[39m\"\"\"Load LightGBM library.\"\"\"\u001b[39;00m\n\u001b[1;32m    205\u001b[0m lib_path \u001b[39m=\u001b[39m find_lib_path()\n\u001b[0;32m--> 206\u001b[0m lib \u001b[39m=\u001b[39m ctypes\u001b[39m.\u001b[39;49mcdll\u001b[39m.\u001b[39;49mLoadLibrary(lib_path[\u001b[39m0\u001b[39;49m])\n\u001b[1;32m    207\u001b[0m lib\u001b[39m.\u001b[39mLGBM_GetLastError\u001b[39m.\u001b[39mrestype \u001b[39m=\u001b[39m ctypes\u001b[39m.\u001b[39mc_char_p\n\u001b[1;32m    208\u001b[0m callback \u001b[39m=\u001b[39m ctypes\u001b[39m.\u001b[39mCFUNCTYPE(\u001b[39mNone\u001b[39;00m, ctypes\u001b[39m.\u001b[39mc_char_p)\n",
      "File \u001b[0;32m~/Documents/energy-fraud-detection_ML-model/.conda/lib/python3.9/ctypes/__init__.py:460\u001b[0m, in \u001b[0;36mLibraryLoader.LoadLibrary\u001b[0;34m(self, name)\u001b[0m\n\u001b[1;32m    459\u001b[0m \u001b[39mdef\u001b[39;00m \u001b[39mLoadLibrary\u001b[39m(\u001b[39mself\u001b[39m, name):\n\u001b[0;32m--> 460\u001b[0m     \u001b[39mreturn\u001b[39;00m \u001b[39mself\u001b[39;49m\u001b[39m.\u001b[39;49m_dlltype(name)\n",
      "File \u001b[0;32m~/Documents/energy-fraud-detection_ML-model/.conda/lib/python3.9/ctypes/__init__.py:382\u001b[0m, in \u001b[0;36mCDLL.__init__\u001b[0;34m(self, name, mode, handle, use_errno, use_last_error, winmode)\u001b[0m\n\u001b[1;32m    379\u001b[0m \u001b[39mself\u001b[39m\u001b[39m.\u001b[39m_FuncPtr \u001b[39m=\u001b[39m _FuncPtr\n\u001b[1;32m    381\u001b[0m \u001b[39mif\u001b[39;00m handle \u001b[39mis\u001b[39;00m \u001b[39mNone\u001b[39;00m:\n\u001b[0;32m--> 382\u001b[0m     \u001b[39mself\u001b[39m\u001b[39m.\u001b[39m_handle \u001b[39m=\u001b[39m _dlopen(\u001b[39mself\u001b[39;49m\u001b[39m.\u001b[39;49m_name, mode)\n\u001b[1;32m    383\u001b[0m \u001b[39melse\u001b[39;00m:\n\u001b[1;32m    384\u001b[0m     \u001b[39mself\u001b[39m\u001b[39m.\u001b[39m_handle \u001b[39m=\u001b[39m handle\n",
      "\u001b[0;31mOSError\u001b[0m: dlopen(/Users/apple/Documents/energy-fraud-detection_ML-model/.conda/lib/python3.9/site-packages/lightgbm/lib/lib_lightgbm.so, 0x0006): Library not loaded: /usr/local/opt/libomp/lib/libomp.dylib\n  Referenced from: <F47D69E4-1594-3171-ABCC-7156C3E263E1> /Users/apple/Documents/energy-fraud-detection_ML-model/.conda/lib/python3.9/site-packages/lightgbm/lib/lib_lightgbm.so\n  Reason: tried: '/usr/local/opt/libomp/lib/libomp.dylib' (no such file), '/System/Volumes/Preboot/Cryptexes/OS/usr/local/opt/libomp/lib/libomp.dylib' (no such file), '/usr/local/opt/libomp/lib/libomp.dylib' (no such file), '/usr/local/lib/libomp.dylib' (no such file), '/usr/lib/libomp.dylib' (no such file, not in dyld cache)"
     ]
    }
   ],
   "source": [
    "from pycaret.anomaly import *\n",
    "\n",
    "exp_ano101 = setup(data, normalize = True, \n",
    "                   ignore_features = ['Customer_Number'],\n",
    "                   session_id = 123)"
   ]
  },
  {
   "cell_type": "code",
   "execution_count": null,
   "metadata": {},
   "outputs": [],
   "source": [
    "iforest = create_model('iforest')\n",
    "print(iforest)"
   ]
  },
  {
   "cell_type": "code",
   "execution_count": null,
   "metadata": {},
   "outputs": [],
   "source": [
    "svm = create_model('svm', fraction = 0.025)\n",
    "print(svm)"
   ]
  },
  {
   "cell_type": "code",
   "execution_count": null,
   "metadata": {},
   "outputs": [],
   "source": [
    "models()"
   ]
  },
  {
   "cell_type": "code",
   "execution_count": null,
   "metadata": {},
   "outputs": [],
   "source": [
    "iforest_results = assign_model(iforest)\n",
    "iforest_results.head()"
   ]
  },
  {
   "cell_type": "code",
   "execution_count": null,
   "metadata": {},
   "outputs": [],
   "source": [
    "plot_model(iforest, plot = 'tsne')"
   ]
  },
  {
   "cell_type": "code",
   "execution_count": null,
   "metadata": {},
   "outputs": [],
   "source": [
    "plot_model(iforest, plot = 'umap')"
   ]
  },
  {
   "cell_type": "code",
   "execution_count": null,
   "metadata": {},
   "outputs": [],
   "source": [
    "unseen_predictions = predict_model(iforest, data=data_unseen)\n",
    "unseen_predictions.head()"
   ]
  },
  {
   "cell_type": "code",
   "execution_count": null,
   "metadata": {},
   "outputs": [],
   "source": [
    "data_predictions = predict_model(iforest, data = data)\n",
    "data_predictions.head()"
   ]
  }
 ],
 "metadata": {
  "kernelspec": {
   "display_name": "Python 3",
   "language": "python",
   "name": "python3"
  },
  "language_info": {
   "codemirror_mode": {
    "name": "ipython",
    "version": 3
   },
   "file_extension": ".py",
   "mimetype": "text/x-python",
   "name": "python",
   "nbconvert_exporter": "python",
   "pygments_lexer": "ipython3",
   "version": "3.9.17"
  },
  "orig_nbformat": 4
 },
 "nbformat": 4,
 "nbformat_minor": 2
}
